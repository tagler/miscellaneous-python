{
 "cells": [
  {
   "cell_type": "markdown",
   "metadata": {},
   "source": [
    "# Amazon Availability Status via Requests"
   ]
  },
  {
   "cell_type": "code",
   "execution_count": null,
   "metadata": {},
   "outputs": [],
   "source": [
    "import os\n",
    "import time\n",
    "import datetime\n",
    "import requests\n",
    "from bs4 import BeautifulSoup\n",
    "from IPython.display import clear_output"
   ]
  },
  {
   "cell_type": "code",
   "execution_count": null,
   "metadata": {},
   "outputs": [],
   "source": [
    "url = \"https://www.amazon.com/XXXXXXXXXX/\""
   ]
  },
  {
   "cell_type": "code",
   "execution_count": null,
   "metadata": {},
   "outputs": [],
   "source": [
    "headers = {\n",
    "    'user-agent': 'Mozilla/5.0 (Macintosh; Intel Mac OS X 10_15_4) AppleWebKit/537.36 (KHTML, like Gecko) Chrome/83.0.4103.61 Safari/537.36',\n",
    "    'accept': 'text/html,application/xhtml+xml,application/xml;q=0.9,image/webp,image/apng,*/*;q=0.8,application/signed-exchange;v=b3;q=0.9',\n",
    "    'accept-language': 'en-GB,en-US;q=0.9,en;q=0.8',\n",
    "    'dnt': '1',\n",
    "}"
   ]
  },
  {
   "cell_type": "code",
   "execution_count": null,
   "metadata": {},
   "outputs": [],
   "source": [
    "while True:    \n",
    "    \n",
    "    # get request \n",
    "    clear_output()\n",
    "    response = requests.get(url, headers=headers)\n",
    "    print(f\"Current Time: {datetime.datetime.now()}\")\n",
    "    print(f\"Request Status: {response.status_code}\")\n",
    "    \n",
    "    # extract availability\n",
    "    try:\n",
    "        soup = BeautifulSoup(response.content, \"lxml\")\n",
    "        availability = soup.find(\"div\", attrs={'id':'availability'})\n",
    "        availability_status = availability.find(\"span\").string.strip()\n",
    "    except:\n",
    "        availability_status = \"\"  \n",
    "        \n",
    "    # check if blocked\n",
    "    if str(soup).find(\"Product Advertising API\") != -1:\n",
    "        print(\"Error: Amazon has blocked the request!\")\n",
    "        print(\"Change your user agent string\")\n",
    "        \n",
    "    # check status\n",
    "    if availability_status:\n",
    "        print(f\"Availability Status: {availability_status}\")\n",
    "        os.system('say \"Alert!\"')\n",
    "        break\n",
    "    else:\n",
    "        print(f\"Availability Status: Out of Stock\")\n",
    "        print(f\"Retrying...\")\n",
    "        time.sleep(60)"
   ]
  },
  {
   "cell_type": "code",
   "execution_count": null,
   "metadata": {},
   "outputs": [],
   "source": []
  }
 ],
 "metadata": {
  "kernelspec": {
   "display_name": "Python 3",
   "language": "python",
   "name": "python3"
  },
  "language_info": {
   "codemirror_mode": {
    "name": "ipython",
    "version": 3
   },
   "file_extension": ".py",
   "mimetype": "text/x-python",
   "name": "python",
   "nbconvert_exporter": "python",
   "pygments_lexer": "ipython3",
   "version": "3.8.5"
  }
 },
 "nbformat": 4,
 "nbformat_minor": 4
}
